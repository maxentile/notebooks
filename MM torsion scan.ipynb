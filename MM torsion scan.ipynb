{
 "cells": [
  {
   "cell_type": "markdown",
   "metadata": {},
   "source": [
    "## Imports"
   ]
  },
  {
   "cell_type": "code",
   "execution_count": 1,
   "metadata": {},
   "outputs": [],
   "source": [
    "from simtk.openmm import app\n",
    "from simtk import openmm as mm\n",
    "from simtk import unit\n",
    "\n",
    "from autograd import grad\n",
    "from autograd import numpy as np"
   ]
  },
  {
   "cell_type": "markdown",
   "metadata": {},
   "source": [
    "## Load system"
   ]
  },
  {
   "cell_type": "code",
   "execution_count": 2,
   "metadata": {},
   "outputs": [],
   "source": [
    "from openmmtools.testsystems import AlanineDipeptideVacuum\n",
    "\n",
    "testsystem = AlanineDipeptideVacuum(constraints=None)\n",
    "integrator = mm.VerletIntegrator(1*unit.femtosecond)\n",
    "platform = mm.Platform.getPlatformByName(\"Reference\")\n",
    "\n",
    "simulation = app.Simulation(testsystem.topology, testsystem.system, integrator, platform)\n",
    "xyz = testsystem.positions\n",
    "\n",
    "simulation.context.setPositions(testsystem.positions)\n",
    "flat_xyz = (xyz / unit.nanometer).flatten()"
   ]
  },
  {
   "cell_type": "code",
   "execution_count": 3,
   "metadata": {},
   "outputs": [],
   "source": [
    "torsion_indices = [ 4,  6,  8, 14]"
   ]
  },
  {
   "cell_type": "markdown",
   "metadata": {},
   "source": [
    "## Geometric functions"
   ]
  },
  {
   "cell_type": "code",
   "execution_count": 4,
   "metadata": {},
   "outputs": [],
   "source": [
    "def compute_dihedral(xyz, indices):\n",
    "    \"\"\"Copied from mdtraj, except without calls to a non-python distance library,\n",
    "    and assuming we dont have to deal with periodic stuff\"\"\"\n",
    "    \n",
    "    a,b,c,d = indices\n",
    "    b1 = xyz[b] - xyz[a]\n",
    "    b2 = xyz[c] - xyz[b]\n",
    "    b3 = xyz[d] - xyz[c]\n",
    "    \n",
    "    c1 = np.cross(b2, b3) # bc x cd\n",
    "    c2 = np.cross(b1, b2) # ab x bc\n",
    "\n",
    "    p1 = np.sum(b1 * c1)\n",
    "    p1 *= np.sum(b2 * b2) ** 0.5\n",
    "    p2 = np.sum(c1 * c2)\n",
    "\n",
    "    return np.arctan2(p1, p2)"
   ]
  },
  {
   "cell_type": "code",
   "execution_count": 5,
   "metadata": {},
   "outputs": [
    {
     "data": {
      "text/plain": [
       "-2.356194490192345"
      ]
     },
     "execution_count": 5,
     "metadata": {},
     "output_type": "execute_result"
    }
   ],
   "source": [
    "compute_dihedral(xyz, indices=torsion_indices)"
   ]
  },
  {
   "cell_type": "markdown",
   "metadata": {},
   "source": [
    "## OpenMM utilities"
   ]
  },
  {
   "cell_type": "code",
   "execution_count": 6,
   "metadata": {},
   "outputs": [],
   "source": [
    "def unflatten(flat_xyz):\n",
    "    N = int(len(flat_xyz) / 3)\n",
    "    return np.reshape(flat_xyz, (N, 3))\n",
    "\n",
    "def set_positions(xyz):\n",
    "    simulation.context.setPositions(xyz)\n",
    "    \n",
    "E_unit = simulation.context.getState(getEnergy=True).getPotentialEnergy().unit\n",
    "F_unit = simulation.context.getState(getForces=True).getForces(asNumpy=True).unit\n",
    "    \n",
    "def get_energy(xyz):\n",
    "    set_positions(xyz)\n",
    "    return simulation.context.getState(getEnergy=True).getPotentialEnergy() / E_unit\n",
    "\n",
    "def get_forces(xyz):\n",
    "    set_positions(xyz)\n",
    "    return simulation.context.getState(getForces=True).getForces(asNumpy=True) / F_unit\n",
    "\n",
    "def fxn_to_minimize(flat_xyz):\n",
    "    return get_energy(unflatten(flat_xyz))\n",
    "\n",
    "def jacobian_of_fxn(flat_xyz):\n",
    "    return - get_forces(unflatten(flat_xyz))"
   ]
  },
  {
   "cell_type": "code",
   "execution_count": 7,
   "metadata": {},
   "outputs": [
    {
     "data": {
      "text/plain": [
       "(-88.08858701280677,\n",
       " array([[-1.71864423e+02, -3.18532914e+01,  6.93394435e-01],\n",
       "        [-2.48278095e+02, -4.06025064e+02, -2.29517355e+00],\n",
       "        [-1.38636003e+01,  6.63278833e+01,  2.85953524e+01],\n",
       "        [-1.53737612e+01,  6.55453841e+01, -2.69094907e+01],\n",
       "        [ 4.48643201e+02,  2.27886698e+02, -1.37703175e+02],\n",
       "        [ 6.63423218e+02,  4.01344211e+02, -3.88143417e+02],\n",
       "        [ 8.31217545e+01,  7.90119645e+02,  2.40789269e+02],\n",
       "        [-4.80724155e+01, -4.43541411e+01,  7.38061764e+00],\n",
       "        [-3.89952746e+02, -3.96431950e+02, -5.37281758e+01],\n",
       "        [ 4.11710161e+01,  1.08638514e+01, -5.63739208e+01],\n",
       "        [-4.00936774e+01,  1.73426599e+02,  2.98724463e+02],\n",
       "        [-1.77504487e+01,  2.76649439e+01,  6.28452535e+01],\n",
       "        [-8.25925160e+01,  2.01081195e+02,  1.30535197e+02],\n",
       "        [-4.08666997e+02, -2.61976000e+02,  3.33849426e+02],\n",
       "        [ 5.72445778e+01, -1.93925032e+01, -2.79065482e+02],\n",
       "        [ 2.16593317e+02,  4.39662702e+01, -8.95231210e+00],\n",
       "        [ 6.24423855e+01, -3.44132577e+02, -1.59405641e+02],\n",
       "        [ 1.40967717e+02,  1.05188960e+02,  6.88440578e+00],\n",
       "        [-2.74913366e+02, -2.02534310e+02,  1.60224152e-01],\n",
       "        [-3.92009467e+01, -2.84703180e+02,  9.29432736e-01],\n",
       "        [ 1.83047123e+01, -6.15969349e+01, -2.15378352e+01],\n",
       "        [ 1.87110951e+01, -6.04156907e+01,  2.27275858e+01]]))"
      ]
     },
     "execution_count": 7,
     "metadata": {},
     "output_type": "execute_result"
    }
   ],
   "source": [
    "fxn_to_minimize(flat_xyz), jacobian_of_fxn(flat_xyz)"
   ]
  },
  {
   "cell_type": "markdown",
   "metadata": {},
   "source": [
    "## Constrained optimization using scipy"
   ]
  },
  {
   "cell_type": "code",
   "execution_count": 8,
   "metadata": {},
   "outputs": [],
   "source": [
    "from functools import partial\n",
    "\n",
    "def dihedral_constraint(flat_xyz, target_dihedral=0.0):\n",
    "    \"\"\"equality constraint: want the output of this function to be 0\"\"\"\n",
    "    xyz = unflatten(flat_xyz)\n",
    "    return compute_dihedral(xyz, torsion_indices) - target_dihedral"
   ]
  },
  {
   "cell_type": "code",
   "execution_count": 9,
   "metadata": {},
   "outputs": [],
   "source": [
    "from scipy.optimize import minimize\n",
    "\n",
    "def form_eq_constraint(target_dihedral):\n",
    "    \"\"\"adapted from scipy documentation\n",
    "    https://docs.scipy.org/doc/scipy/reference/tutorial/optimize.html#sequential-least-squares-programming-slsqp-algorithm-method-slsqp\n",
    "    \"\"\"\n",
    "    \n",
    "    fun = partial(dihedral_constraint, target_dihedral=target_dihedral)\n",
    "\n",
    "    eq_cons = {'type': 'eq',\n",
    "               'fun' : fun,\n",
    "               'jac' : grad(fun)}\n",
    "    return eq_cons"
   ]
  },
  {
   "cell_type": "code",
   "execution_count": 10,
   "metadata": {},
   "outputs": [
    {
     "data": {
      "text/plain": [
       "-1.5707963267948966"
      ]
     },
     "execution_count": 10,
     "metadata": {},
     "output_type": "execute_result"
    }
   ],
   "source": [
    "target_dihedral = - 0.5 * np.pi\n",
    "target_dihedral"
   ]
  },
  {
   "cell_type": "code",
   "execution_count": 11,
   "metadata": {},
   "outputs": [
    {
     "data": {
      "text/plain": [
       "array([ 0.00000000e+00,  0.00000000e+00,  0.00000000e+00,  0.00000000e+00,\n",
       "        0.00000000e+00,  0.00000000e+00,  0.00000000e+00,  0.00000000e+00,\n",
       "        0.00000000e+00,  0.00000000e+00,  0.00000000e+00,  0.00000000e+00,\n",
       "        8.22110877e-06, -1.27640788e-07,  8.82319314e+00,  0.00000000e+00,\n",
       "        0.00000000e+00,  0.00000000e+00, -5.11681433e-06, -9.16689970e-06,\n",
       "       -1.04558861e+01,  0.00000000e+00,  0.00000000e+00,  0.00000000e+00,\n",
       "       -2.18988234e-05,  3.40388779e-05, -5.40978538e+00,  0.00000000e+00,\n",
       "        0.00000000e+00,  0.00000000e+00,  0.00000000e+00,  0.00000000e+00,\n",
       "        0.00000000e+00,  0.00000000e+00,  0.00000000e+00,  0.00000000e+00,\n",
       "        0.00000000e+00,  0.00000000e+00,  0.00000000e+00,  0.00000000e+00,\n",
       "        0.00000000e+00,  0.00000000e+00,  1.87945289e-05, -2.47443374e-05,\n",
       "        7.04247833e+00,  0.00000000e+00,  0.00000000e+00,  0.00000000e+00,\n",
       "        0.00000000e+00,  0.00000000e+00,  0.00000000e+00,  0.00000000e+00,\n",
       "        0.00000000e+00,  0.00000000e+00,  0.00000000e+00,  0.00000000e+00,\n",
       "        0.00000000e+00,  0.00000000e+00,  0.00000000e+00,  0.00000000e+00,\n",
       "        0.00000000e+00,  0.00000000e+00,  0.00000000e+00,  0.00000000e+00,\n",
       "        0.00000000e+00,  0.00000000e+00])"
      ]
     },
     "execution_count": 11,
     "metadata": {},
     "output_type": "execute_result"
    }
   ],
   "source": [
    "eq_cons = form_eq_constraint(target_dihedral)\n",
    "eq_cons['jac'](flat_xyz)"
   ]
  },
  {
   "cell_type": "code",
   "execution_count": 12,
   "metadata": {},
   "outputs": [
    {
     "name": "stdout",
     "output_type": "stream",
     "text": [
      "Minimize a scalar function of one or more variables using Sequential\n",
      "Least SQuares Programming (SLSQP).\n",
      "\n",
      "Options\n",
      "-------\n",
      "ftol : float\n",
      "    Precision goal for the value of f in the stopping criterion.\n",
      "eps : float\n",
      "    Step size used for numerical approximation of the Jacobian.\n",
      "disp : bool\n",
      "    Set to True to print convergence messages. If False,\n",
      "    `verbosity` is ignored and set to 0.\n",
      "maxiter : int\n",
      "    Maximum number of iterations.\n"
     ]
    }
   ],
   "source": [
    "from scipy.optimize import show_options\n",
    "show_options('minimize', method='SLSQP')"
   ]
  },
  {
   "cell_type": "code",
   "execution_count": 13,
   "metadata": {},
   "outputs": [
    {
     "name": "stdout",
     "output_type": "stream",
     "text": [
      "Optimization terminated successfully.    (Exit mode 0)\n",
      "            Current function value: -116.04702111146389\n",
      "            Iterations: 193\n",
      "            Function evaluations: 549\n",
      "            Gradient evaluations: 193\n"
     ]
    }
   ],
   "source": [
    "result = minimize(fxn_to_minimize, flat_xyz, method='SLSQP', jac=jacobian_of_fxn,\n",
    "               constraints=[eq_cons], options={'ftol': 1e-9, 'disp': True, 'maxiter': 1000})"
   ]
  },
  {
   "cell_type": "code",
   "execution_count": 14,
   "metadata": {},
   "outputs": [
    {
     "data": {
      "text/plain": [
       "(-1.5707963267947624, -1.5707963267948966)"
      ]
     },
     "execution_count": 14,
     "metadata": {},
     "output_type": "execute_result"
    }
   ],
   "source": [
    "compute_dihedral(unflatten(result.x), torsion_indices), target_dihedral"
   ]
  },
  {
   "cell_type": "markdown",
   "metadata": {},
   "source": [
    "# Do a torsion scan"
   ]
  },
  {
   "cell_type": "code",
   "execution_count": 15,
   "metadata": {},
   "outputs": [],
   "source": [
    "# TODO: may have to define constraint not in terms of angle (skip arctan2)\n",
    "torsion_grid = np.linspace(-np.pi, np.pi, 101)[1:]"
   ]
  },
  {
   "cell_type": "code",
   "execution_count": 16,
   "metadata": {},
   "outputs": [
    {
     "name": "stderr",
     "output_type": "stream",
     "text": [
      "  1%|          | 1/100 [00:00<00:35,  2.83it/s]"
     ]
    },
    {
     "name": "stdout",
     "output_type": "stream",
     "text": [
      "Optimization terminated successfully.    (Exit mode 0)\n",
      "            Current function value: -110.18031669677055\n",
      "            Iterations: 127\n",
      "            Function evaluations: 464\n",
      "            Gradient evaluations: 127\n"
     ]
    },
    {
     "name": "stderr",
     "output_type": "stream",
     "text": [
      "\r",
      "  2%|▏         | 2/100 [00:00<00:34,  2.82it/s]"
     ]
    },
    {
     "name": "stdout",
     "output_type": "stream",
     "text": [
      "Optimization terminated successfully.    (Exit mode 0)\n",
      "            Current function value: -112.06873803491392\n",
      "            Iterations: 128\n",
      "            Function evaluations: 464\n",
      "            Gradient evaluations: 128\n"
     ]
    },
    {
     "name": "stderr",
     "output_type": "stream",
     "text": [
      "\r",
      "  3%|▎         | 3/100 [00:01<00:35,  2.75it/s]"
     ]
    },
    {
     "name": "stdout",
     "output_type": "stream",
     "text": [
      "Optimization terminated successfully.    (Exit mode 0)\n",
      "            Current function value: -113.75638251871146\n",
      "            Iterations: 132\n",
      "            Function evaluations: 466\n",
      "            Gradient evaluations: 132\n"
     ]
    },
    {
     "name": "stderr",
     "output_type": "stream",
     "text": [
      "\r",
      "  4%|▍         | 4/100 [00:01<00:34,  2.75it/s]"
     ]
    },
    {
     "name": "stdout",
     "output_type": "stream",
     "text": [
      "Optimization terminated successfully.    (Exit mode 0)\n",
      "            Current function value: -115.20799813955178\n",
      "            Iterations: 130\n",
      "            Function evaluations: 459\n",
      "            Gradient evaluations: 130\n"
     ]
    },
    {
     "name": "stderr",
     "output_type": "stream",
     "text": [
      "\r",
      "  5%|▌         | 5/100 [00:01<00:34,  2.76it/s]"
     ]
    },
    {
     "name": "stdout",
     "output_type": "stream",
     "text": [
      "Optimization terminated successfully.    (Exit mode 0)\n",
      "            Current function value: -116.40033575628745\n",
      "            Iterations: 131\n",
      "            Function evaluations: 464\n",
      "            Gradient evaluations: 131\n"
     ]
    },
    {
     "name": "stderr",
     "output_type": "stream",
     "text": [
      "\r",
      "  6%|▌         | 6/100 [00:02<00:33,  2.77it/s]"
     ]
    },
    {
     "name": "stdout",
     "output_type": "stream",
     "text": [
      "Optimization terminated successfully.    (Exit mode 0)\n",
      "            Current function value: -117.32140289920636\n",
      "            Iterations: 131\n",
      "            Function evaluations: 469\n",
      "            Gradient evaluations: 131\n"
     ]
    },
    {
     "name": "stderr",
     "output_type": "stream",
     "text": [
      "\r",
      "  7%|▋         | 7/100 [00:02<00:33,  2.74it/s]"
     ]
    },
    {
     "name": "stdout",
     "output_type": "stream",
     "text": [
      "Optimization terminated successfully.    (Exit mode 0)\n",
      "            Current function value: -117.96907123689778\n",
      "            Iterations: 134\n",
      "            Function evaluations: 470\n",
      "            Gradient evaluations: 134\n"
     ]
    },
    {
     "name": "stderr",
     "output_type": "stream",
     "text": [
      "\r",
      "  8%|▊         | 8/100 [00:02<00:33,  2.72it/s]"
     ]
    },
    {
     "name": "stdout",
     "output_type": "stream",
     "text": [
      "Optimization terminated successfully.    (Exit mode 0)\n",
      "            Current function value: -118.34942823923367\n",
      "            Iterations: 135\n",
      "            Function evaluations: 467\n",
      "            Gradient evaluations: 135\n"
     ]
    },
    {
     "name": "stderr",
     "output_type": "stream",
     "text": [
      "\r",
      "  9%|▉         | 9/100 [00:03<00:34,  2.60it/s]"
     ]
    },
    {
     "name": "stdout",
     "output_type": "stream",
     "text": [
      "Optimization terminated successfully.    (Exit mode 0)\n",
      "            Current function value: -118.47529016419553\n",
      "            Iterations: 140\n",
      "            Function evaluations: 476\n",
      "            Gradient evaluations: 140\n"
     ]
    },
    {
     "name": "stderr",
     "output_type": "stream",
     "text": [
      "\r",
      " 10%|█         | 10/100 [00:03<00:35,  2.57it/s]"
     ]
    },
    {
     "name": "stdout",
     "output_type": "stream",
     "text": [
      "Optimization terminated successfully.    (Exit mode 0)\n",
      "            Current function value: -118.36517947687858\n",
      "            Iterations: 141\n",
      "            Function evaluations: 480\n",
      "            Gradient evaluations: 141\n"
     ]
    },
    {
     "name": "stderr",
     "output_type": "stream",
     "text": [
      "\r",
      " 11%|█         | 11/100 [00:04<00:36,  2.42it/s]"
     ]
    },
    {
     "name": "stdout",
     "output_type": "stream",
     "text": [
      "Optimization terminated successfully.    (Exit mode 0)\n",
      "            Current function value: -118.04284334203334\n",
      "            Iterations: 142\n",
      "            Function evaluations: 482\n",
      "            Gradient evaluations: 142\n"
     ]
    },
    {
     "name": "stderr",
     "output_type": "stream",
     "text": [
      "\r",
      " 12%|█▏        | 12/100 [00:04<00:37,  2.34it/s]"
     ]
    },
    {
     "name": "stdout",
     "output_type": "stream",
     "text": [
      "Optimization terminated successfully.    (Exit mode 0)\n",
      "            Current function value: -117.53718082043231\n",
      "            Iterations: 144\n",
      "            Function evaluations: 484\n",
      "            Gradient evaluations: 144\n"
     ]
    },
    {
     "name": "stderr",
     "output_type": "stream",
     "text": [
      "\r",
      " 13%|█▎        | 13/100 [00:05<00:37,  2.30it/s]"
     ]
    },
    {
     "name": "stdout",
     "output_type": "stream",
     "text": [
      "Optimization terminated successfully.    (Exit mode 0)\n",
      "            Current function value: -116.88234902091519\n",
      "            Iterations: 145\n",
      "            Function evaluations: 483\n",
      "            Gradient evaluations: 145\n"
     ]
    },
    {
     "name": "stderr",
     "output_type": "stream",
     "text": [
      "\r",
      " 14%|█▍        | 14/100 [00:05<00:36,  2.34it/s]"
     ]
    },
    {
     "name": "stdout",
     "output_type": "stream",
     "text": [
      "Optimization terminated successfully.    (Exit mode 0)\n",
      "            Current function value: -116.11782346515295\n",
      "            Iterations: 147\n",
      "            Function evaluations: 483\n",
      "            Gradient evaluations: 147\n"
     ]
    },
    {
     "name": "stderr",
     "output_type": "stream",
     "text": [
      "\r",
      " 15%|█▌        | 15/100 [00:05<00:35,  2.41it/s]"
     ]
    },
    {
     "name": "stdout",
     "output_type": "stream",
     "text": [
      "Optimization terminated successfully.    (Exit mode 0)\n",
      "            Current function value: -115.28823278603912\n",
      "            Iterations: 147\n",
      "            Function evaluations: 490\n",
      "            Gradient evaluations: 147\n"
     ]
    },
    {
     "name": "stderr",
     "output_type": "stream",
     "text": [
      "\r",
      " 16%|█▌        | 16/100 [00:06<00:34,  2.41it/s]"
     ]
    },
    {
     "name": "stdout",
     "output_type": "stream",
     "text": [
      "Optimization terminated successfully.    (Exit mode 0)\n",
      "            Current function value: -114.4428215927291\n",
      "            Iterations: 153\n",
      "            Function evaluations: 493\n",
      "            Gradient evaluations: 153\n"
     ]
    },
    {
     "name": "stderr",
     "output_type": "stream",
     "text": [
      "\r",
      " 17%|█▋        | 17/100 [00:06<00:34,  2.41it/s]"
     ]
    },
    {
     "name": "stdout",
     "output_type": "stream",
     "text": [
      "Optimization terminated successfully.    (Exit mode 0)\n",
      "            Current function value: -113.63439667221473\n",
      "            Iterations: 155\n",
      "            Function evaluations: 496\n",
      "            Gradient evaluations: 155\n"
     ]
    },
    {
     "name": "stderr",
     "output_type": "stream",
     "text": [
      "\r",
      " 18%|█▊        | 18/100 [00:07<00:34,  2.40it/s]"
     ]
    },
    {
     "name": "stdout",
     "output_type": "stream",
     "text": [
      "Optimization terminated successfully.    (Exit mode 0)\n",
      "            Current function value: -112.91760458594553\n",
      "            Iterations: 159\n",
      "            Function evaluations: 501\n",
      "            Gradient evaluations: 159\n"
     ]
    },
    {
     "name": "stderr",
     "output_type": "stream",
     "text": [
      "\r",
      " 19%|█▉        | 19/100 [00:07<00:33,  2.39it/s]"
     ]
    },
    {
     "name": "stdout",
     "output_type": "stream",
     "text": [
      "Optimization terminated successfully.    (Exit mode 0)\n",
      "            Current function value: -112.34666814000684\n",
      "            Iterations: 163\n",
      "            Function evaluations: 510\n",
      "            Gradient evaluations: 163\n"
     ]
    },
    {
     "name": "stderr",
     "output_type": "stream",
     "text": [
      "\r",
      " 20%|██        | 20/100 [00:08<00:33,  2.37it/s]"
     ]
    },
    {
     "name": "stdout",
     "output_type": "stream",
     "text": [
      "Optimization terminated successfully.    (Exit mode 0)\n",
      "            Current function value: -111.97476960626207\n",
      "            Iterations: 168\n",
      "            Function evaluations: 512\n",
      "            Gradient evaluations: 168\n"
     ]
    },
    {
     "name": "stderr",
     "output_type": "stream",
     "text": [
      "\r",
      " 21%|██        | 21/100 [00:08<00:33,  2.34it/s]"
     ]
    },
    {
     "name": "stdout",
     "output_type": "stream",
     "text": [
      "Optimization terminated successfully.    (Exit mode 0)\n",
      "            Current function value: -111.86888332323205\n",
      "            Iterations: 174\n",
      "            Function evaluations: 521\n",
      "            Gradient evaluations: 174\n"
     ]
    },
    {
     "name": "stderr",
     "output_type": "stream",
     "text": [
      "\r",
      " 22%|██▏       | 22/100 [00:08<00:34,  2.28it/s]"
     ]
    },
    {
     "name": "stdout",
     "output_type": "stream",
     "text": [
      "Optimization terminated successfully.    (Exit mode 0)\n",
      "            Current function value: -112.29280900049139\n",
      "            Iterations: 187\n",
      "            Function evaluations: 535\n",
      "            Gradient evaluations: 187\n"
     ]
    },
    {
     "name": "stderr",
     "output_type": "stream",
     "text": [
      "\r",
      " 23%|██▎       | 23/100 [00:09<00:34,  2.21it/s]"
     ]
    },
    {
     "name": "stdout",
     "output_type": "stream",
     "text": [
      "Optimization terminated successfully.    (Exit mode 0)\n",
      "            Current function value: -113.34444912986311\n",
      "            Iterations: 194\n",
      "            Function evaluations: 547\n",
      "            Gradient evaluations: 194\n"
     ]
    },
    {
     "name": "stderr",
     "output_type": "stream",
     "text": [
      "\r",
      " 24%|██▍       | 24/100 [00:09<00:36,  2.09it/s]"
     ]
    },
    {
     "name": "stdout",
     "output_type": "stream",
     "text": [
      "Optimization terminated successfully.    (Exit mode 0)\n",
      "            Current function value: -114.66250131420202\n",
      "            Iterations: 200\n",
      "            Function evaluations: 552\n",
      "            Gradient evaluations: 200\n"
     ]
    },
    {
     "name": "stderr",
     "output_type": "stream",
     "text": [
      "\r",
      " 25%|██▌       | 25/100 [00:10<00:36,  2.05it/s]"
     ]
    },
    {
     "name": "stdout",
     "output_type": "stream",
     "text": [
      "Optimization terminated successfully.    (Exit mode 0)\n",
      "            Current function value: -116.04702111090918\n",
      "            Iterations: 193\n",
      "            Function evaluations: 549\n",
      "            Gradient evaluations: 193\n"
     ]
    },
    {
     "name": "stderr",
     "output_type": "stream",
     "text": [
      "\r",
      " 26%|██▌       | 26/100 [00:10<00:36,  2.00it/s]"
     ]
    },
    {
     "name": "stdout",
     "output_type": "stream",
     "text": [
      "Optimization terminated successfully.    (Exit mode 0)\n",
      "            Current function value: -117.33097322289665\n",
      "            Iterations: 203\n",
      "            Function evaluations: 557\n",
      "            Gradient evaluations: 203\n"
     ]
    },
    {
     "name": "stderr",
     "output_type": "stream",
     "text": [
      "\r",
      " 27%|██▋       | 27/100 [00:11<00:36,  1.98it/s]"
     ]
    },
    {
     "name": "stdout",
     "output_type": "stream",
     "text": [
      "Optimization terminated successfully.    (Exit mode 0)\n",
      "            Current function value: -118.38147086872982\n",
      "            Iterations: 204\n",
      "            Function evaluations: 566\n",
      "            Gradient evaluations: 204\n"
     ]
    },
    {
     "name": "stderr",
     "output_type": "stream",
     "text": [
      "\r",
      " 28%|██▊       | 28/100 [00:11<00:35,  2.00it/s]"
     ]
    },
    {
     "name": "stdout",
     "output_type": "stream",
     "text": [
      "Optimization terminated successfully.    (Exit mode 0)\n",
      "            Current function value: -119.10573127001174\n",
      "            Iterations: 203\n",
      "            Function evaluations: 559\n",
      "            Gradient evaluations: 203\n"
     ]
    },
    {
     "name": "stderr",
     "output_type": "stream",
     "text": [
      "\r",
      " 29%|██▉       | 29/100 [00:12<00:35,  2.00it/s]"
     ]
    },
    {
     "name": "stdout",
     "output_type": "stream",
     "text": [
      "Optimization terminated successfully.    (Exit mode 0)\n",
      "            Current function value: -119.4475285477025\n",
      "            Iterations: 206\n",
      "            Function evaluations: 564\n",
      "            Gradient evaluations: 206\n"
     ]
    },
    {
     "name": "stderr",
     "output_type": "stream",
     "text": [
      "\r",
      " 30%|███       | 30/100 [00:12<00:34,  2.00it/s]"
     ]
    },
    {
     "name": "stdout",
     "output_type": "stream",
     "text": [
      "Optimization terminated successfully.    (Exit mode 0)\n",
      "            Current function value: -119.37969243623337\n",
      "            Iterations: 206\n",
      "            Function evaluations: 561\n",
      "            Gradient evaluations: 206\n"
     ]
    },
    {
     "name": "stderr",
     "output_type": "stream",
     "text": [
      "\r",
      " 31%|███       | 31/100 [00:13<00:34,  1.98it/s]"
     ]
    },
    {
     "name": "stdout",
     "output_type": "stream",
     "text": [
      "Optimization terminated successfully.    (Exit mode 0)\n",
      "            Current function value: -118.89681137784166\n",
      "            Iterations: 205\n",
      "            Function evaluations: 562\n",
      "            Gradient evaluations: 205\n"
     ]
    },
    {
     "name": "stderr",
     "output_type": "stream",
     "text": [
      "\r",
      " 32%|███▏      | 32/100 [00:14<00:34,  1.97it/s]"
     ]
    },
    {
     "name": "stdout",
     "output_type": "stream",
     "text": [
      "Optimization terminated successfully.    (Exit mode 0)\n",
      "            Current function value: -118.00949161492974\n",
      "            Iterations: 206\n",
      "            Function evaluations: 566\n",
      "            Gradient evaluations: 206\n"
     ]
    },
    {
     "name": "stderr",
     "output_type": "stream",
     "text": [
      "\r",
      " 33%|███▎      | 33/100 [00:14<00:34,  1.94it/s]"
     ]
    },
    {
     "name": "stdout",
     "output_type": "stream",
     "text": [
      "Optimization terminated successfully.    (Exit mode 0)\n",
      "            Current function value: -116.74034704594342\n",
      "            Iterations: 208\n",
      "            Function evaluations: 569\n",
      "            Gradient evaluations: 208\n"
     ]
    },
    {
     "name": "stderr",
     "output_type": "stream",
     "text": [
      "\r",
      " 34%|███▍      | 34/100 [00:15<00:34,  1.91it/s]"
     ]
    },
    {
     "name": "stdout",
     "output_type": "stream",
     "text": [
      "Optimization terminated successfully.    (Exit mode 0)\n",
      "            Current function value: -115.1216384752266\n",
      "            Iterations: 219\n",
      "            Function evaluations: 573\n",
      "            Gradient evaluations: 219\n"
     ]
    },
    {
     "name": "stderr",
     "output_type": "stream",
     "text": [
      "\r",
      " 35%|███▌      | 35/100 [00:15<00:35,  1.84it/s]"
     ]
    },
    {
     "name": "stdout",
     "output_type": "stream",
     "text": [
      "Optimization terminated successfully.    (Exit mode 0)\n",
      "            Current function value: -113.19465417328851\n",
      "            Iterations: 234\n",
      "            Function evaluations: 589\n",
      "            Gradient evaluations: 234\n"
     ]
    },
    {
     "name": "stderr",
     "output_type": "stream",
     "text": [
      "\r",
      " 36%|███▌      | 36/100 [00:16<00:35,  1.82it/s]"
     ]
    },
    {
     "name": "stdout",
     "output_type": "stream",
     "text": [
      "Optimization terminated successfully.    (Exit mode 0)\n",
      "            Current function value: -111.01175695819875\n",
      "            Iterations: 213\n",
      "            Function evaluations: 566\n",
      "            Gradient evaluations: 213\n"
     ]
    },
    {
     "name": "stderr",
     "output_type": "stream",
     "text": [
      "\r",
      " 37%|███▋      | 37/100 [00:16<00:34,  1.81it/s]"
     ]
    },
    {
     "name": "stdout",
     "output_type": "stream",
     "text": [
      "Optimization terminated successfully.    (Exit mode 0)\n",
      "            Current function value: -108.64467729079149\n",
      "            Iterations: 230\n",
      "            Function evaluations: 587\n",
      "            Gradient evaluations: 230\n"
     ]
    },
    {
     "name": "stderr",
     "output_type": "stream",
     "text": [
      "\r",
      " 38%|███▊      | 38/100 [00:17<00:35,  1.75it/s]"
     ]
    },
    {
     "name": "stdout",
     "output_type": "stream",
     "text": [
      "Optimization terminated successfully.    (Exit mode 0)\n",
      "            Current function value: -106.19242380708369\n",
      "            Iterations: 257\n",
      "            Function evaluations: 616\n",
      "            Gradient evaluations: 257\n"
     ]
    },
    {
     "name": "stderr",
     "output_type": "stream",
     "text": [
      "\r",
      " 39%|███▉      | 39/100 [00:17<00:34,  1.77it/s]"
     ]
    },
    {
     "name": "stdout",
     "output_type": "stream",
     "text": [
      "Optimization terminated successfully.    (Exit mode 0)\n",
      "            Current function value: -103.70023291559525\n",
      "            Iterations: 228\n",
      "            Function evaluations: 585\n",
      "            Gradient evaluations: 228\n"
     ]
    },
    {
     "name": "stderr",
     "output_type": "stream",
     "text": [
      "\r",
      " 40%|████      | 40/100 [00:18<00:34,  1.72it/s]"
     ]
    },
    {
     "name": "stdout",
     "output_type": "stream",
     "text": [
      "Optimization terminated successfully.    (Exit mode 0)\n",
      "            Current function value: -101.14907253132279\n",
      "            Iterations: 228\n",
      "            Function evaluations: 583\n",
      "            Gradient evaluations: 228\n"
     ]
    },
    {
     "name": "stderr",
     "output_type": "stream",
     "text": [
      "\r",
      " 41%|████      | 41/100 [00:19<00:33,  1.78it/s]"
     ]
    },
    {
     "name": "stdout",
     "output_type": "stream",
     "text": [
      "Optimization terminated successfully.    (Exit mode 0)\n",
      "            Current function value: -98.54714047188156\n",
      "            Iterations: 202\n",
      "            Function evaluations: 557\n",
      "            Gradient evaluations: 202\n"
     ]
    },
    {
     "name": "stderr",
     "output_type": "stream",
     "text": [
      "\r",
      " 42%|████▏     | 42/100 [00:19<00:30,  1.88it/s]"
     ]
    },
    {
     "name": "stdout",
     "output_type": "stream",
     "text": [
      "Optimization terminated successfully.    (Exit mode 0)\n",
      "            Current function value: -95.92640913642907\n",
      "            Iterations: 185\n",
      "            Function evaluations: 536\n",
      "            Gradient evaluations: 185\n"
     ]
    },
    {
     "name": "stderr",
     "output_type": "stream",
     "text": [
      "\r",
      " 43%|████▎     | 43/100 [00:20<00:29,  1.94it/s]"
     ]
    },
    {
     "name": "stdout",
     "output_type": "stream",
     "text": [
      "Optimization terminated successfully.    (Exit mode 0)\n",
      "            Current function value: -93.33065535265014\n",
      "            Iterations: 186\n",
      "            Function evaluations: 540\n",
      "            Gradient evaluations: 186\n"
     ]
    },
    {
     "name": "stderr",
     "output_type": "stream",
     "text": [
      "\r",
      " 44%|████▍     | 44/100 [00:20<00:28,  1.99it/s]"
     ]
    },
    {
     "name": "stdout",
     "output_type": "stream",
     "text": [
      "Optimization terminated successfully.    (Exit mode 0)\n",
      "            Current function value: -90.80936965619827\n",
      "            Iterations: 190\n",
      "            Function evaluations: 543\n",
      "            Gradient evaluations: 190\n"
     ]
    },
    {
     "name": "stderr",
     "output_type": "stream",
     "text": [
      "\r",
      " 45%|████▌     | 45/100 [00:21<00:28,  1.90it/s]"
     ]
    },
    {
     "name": "stdout",
     "output_type": "stream",
     "text": [
      "Optimization terminated successfully.    (Exit mode 0)\n",
      "            Current function value: -88.41391427384484\n",
      "            Iterations: 223\n",
      "            Function evaluations: 576\n",
      "            Gradient evaluations: 223\n"
     ]
    },
    {
     "name": "stderr",
     "output_type": "stream",
     "text": [
      "\r",
      " 46%|████▌     | 46/100 [00:21<00:28,  1.91it/s]"
     ]
    },
    {
     "name": "stdout",
     "output_type": "stream",
     "text": [
      "Optimization terminated successfully.    (Exit mode 0)\n",
      "            Current function value: -86.19453522601418\n",
      "            Iterations: 193\n",
      "            Function evaluations: 544\n",
      "            Gradient evaluations: 193\n"
     ]
    },
    {
     "name": "stderr",
     "output_type": "stream",
     "text": [
      "\r",
      " 47%|████▋     | 47/100 [00:22<00:28,  1.84it/s]"
     ]
    },
    {
     "name": "stdout",
     "output_type": "stream",
     "text": [
      "Optimization terminated successfully.    (Exit mode 0)\n",
      "            Current function value: -84.1977987765112\n",
      "            Iterations: 238\n",
      "            Function evaluations: 597\n",
      "            Gradient evaluations: 238\n"
     ]
    },
    {
     "name": "stderr",
     "output_type": "stream",
     "text": [
      "\r",
      " 48%|████▊     | 48/100 [00:22<00:27,  1.89it/s]"
     ]
    },
    {
     "name": "stdout",
     "output_type": "stream",
     "text": [
      "Optimization terminated successfully.    (Exit mode 0)\n",
      "            Current function value: -82.46435751289604\n",
      "            Iterations: 194\n",
      "            Function evaluations: 548\n",
      "            Gradient evaluations: 194\n"
     ]
    },
    {
     "name": "stderr",
     "output_type": "stream",
     "text": [
      "\r",
      " 49%|████▉     | 49/100 [00:23<00:29,  1.75it/s]"
     ]
    },
    {
     "name": "stdout",
     "output_type": "stream",
     "text": [
      "Optimization terminated successfully.    (Exit mode 0)\n",
      "            Current function value: -81.02704270042304\n",
      "            Iterations: 258\n",
      "            Function evaluations: 626\n",
      "            Gradient evaluations: 258\n"
     ]
    },
    {
     "name": "stderr",
     "output_type": "stream",
     "text": [
      "\r",
      " 50%|█████     | 50/100 [00:23<00:28,  1.78it/s]"
     ]
    },
    {
     "name": "stdout",
     "output_type": "stream",
     "text": [
      "Optimization terminated successfully.    (Exit mode 0)\n",
      "            Current function value: -86.55496537547012\n",
      "            Iterations: 211\n",
      "            Function evaluations: 573\n",
      "            Gradient evaluations: 211\n"
     ]
    },
    {
     "name": "stderr",
     "output_type": "stream",
     "text": [
      "\r",
      " 51%|█████     | 51/100 [00:24<00:28,  1.74it/s]"
     ]
    },
    {
     "name": "stdout",
     "output_type": "stream",
     "text": [
      "Optimization terminated successfully.    (Exit mode 0)\n",
      "            Current function value: -87.25878676283808\n",
      "            Iterations: 221\n",
      "            Function evaluations: 583\n",
      "            Gradient evaluations: 221\n"
     ]
    },
    {
     "name": "stderr",
     "output_type": "stream",
     "text": [
      "\r",
      " 52%|█████▏    | 52/100 [00:25<00:28,  1.69it/s]"
     ]
    },
    {
     "name": "stdout",
     "output_type": "stream",
     "text": [
      "Optimization terminated successfully.    (Exit mode 0)\n",
      "            Current function value: -88.25165083092448\n",
      "            Iterations: 223\n",
      "            Function evaluations: 578\n",
      "            Gradient evaluations: 223\n"
     ]
    },
    {
     "name": "stderr",
     "output_type": "stream",
     "text": [
      "\r",
      " 53%|█████▎    | 53/100 [00:25<00:29,  1.60it/s]"
     ]
    },
    {
     "name": "stdout",
     "output_type": "stream",
     "text": [
      "Optimization terminated successfully.    (Exit mode 0)\n",
      "            Current function value: -89.50940827443347\n",
      "            Iterations: 211\n",
      "            Function evaluations: 574\n",
      "            Gradient evaluations: 211\n"
     ]
    },
    {
     "name": "stderr",
     "output_type": "stream",
     "text": [
      "\r",
      " 54%|█████▍    | 54/100 [00:26<00:28,  1.60it/s]"
     ]
    },
    {
     "name": "stdout",
     "output_type": "stream",
     "text": [
      "Optimization terminated successfully.    (Exit mode 0)\n",
      "            Current function value: -91.00111433646495\n",
      "            Iterations: 222\n",
      "            Function evaluations: 580\n",
      "            Gradient evaluations: 222\n"
     ]
    },
    {
     "name": "stderr",
     "output_type": "stream",
     "text": [
      "\r",
      " 55%|█████▌    | 55/100 [00:27<00:27,  1.66it/s]"
     ]
    },
    {
     "name": "stdout",
     "output_type": "stream",
     "text": [
      "Optimization terminated successfully.    (Exit mode 0)\n",
      "            Current function value: -92.69370944578519\n",
      "            Iterations: 212\n",
      "            Function evaluations: 567\n",
      "            Gradient evaluations: 212\n"
     ]
    },
    {
     "name": "stderr",
     "output_type": "stream",
     "text": [
      "\r",
      " 56%|█████▌    | 56/100 [00:27<00:26,  1.68it/s]"
     ]
    },
    {
     "name": "stdout",
     "output_type": "stream",
     "text": [
      "Optimization terminated successfully.    (Exit mode 0)\n",
      "            Current function value: -94.5588772258345\n",
      "            Iterations: 222\n",
      "            Function evaluations: 585\n",
      "            Gradient evaluations: 222\n"
     ]
    },
    {
     "name": "stderr",
     "output_type": "stream",
     "text": [
      "\r",
      " 57%|█████▋    | 57/100 [00:28<00:25,  1.66it/s]"
     ]
    },
    {
     "name": "stdout",
     "output_type": "stream",
     "text": [
      "Optimization terminated successfully.    (Exit mode 0)\n",
      "            Current function value: -96.5748604871584\n",
      "            Iterations: 214\n",
      "            Function evaluations: 579\n",
      "            Gradient evaluations: 214\n"
     ]
    },
    {
     "name": "stderr",
     "output_type": "stream",
     "text": [
      "\r",
      " 58%|█████▊    | 58/100 [00:29<00:29,  1.40it/s]"
     ]
    },
    {
     "name": "stdout",
     "output_type": "stream",
     "text": [
      "Optimization terminated successfully.    (Exit mode 0)\n",
      "            Current function value: -98.69831957933376\n",
      "            Iterations: 216\n",
      "            Function evaluations: 578\n",
      "            Gradient evaluations: 216\n"
     ]
    },
    {
     "name": "stderr",
     "output_type": "stream",
     "text": [
      "\r",
      " 59%|█████▉    | 59/100 [00:30<00:33,  1.21it/s]"
     ]
    },
    {
     "name": "stdout",
     "output_type": "stream",
     "text": [
      "Optimization terminated successfully.    (Exit mode 0)\n",
      "            Current function value: -100.85237893320347\n",
      "            Iterations: 208\n",
      "            Function evaluations: 573\n",
      "            Gradient evaluations: 208\n"
     ]
    },
    {
     "name": "stderr",
     "output_type": "stream",
     "text": [
      "\r",
      " 60%|██████    | 60/100 [00:31<00:31,  1.25it/s]"
     ]
    },
    {
     "name": "stdout",
     "output_type": "stream",
     "text": [
      "Optimization terminated successfully.    (Exit mode 0)\n",
      "            Current function value: -102.96063968942525\n",
      "            Iterations: 209\n",
      "            Function evaluations: 572\n",
      "            Gradient evaluations: 209\n"
     ]
    },
    {
     "name": "stderr",
     "output_type": "stream",
     "text": [
      "\r",
      " 61%|██████    | 61/100 [00:31<00:28,  1.37it/s]"
     ]
    },
    {
     "name": "stdout",
     "output_type": "stream",
     "text": [
      "Optimization terminated successfully.    (Exit mode 0)\n",
      "            Current function value: -104.9567802887976\n",
      "            Iterations: 210\n",
      "            Function evaluations: 574\n",
      "            Gradient evaluations: 210\n"
     ]
    },
    {
     "name": "stderr",
     "output_type": "stream",
     "text": [
      "\r",
      " 62%|██████▏   | 62/100 [00:32<00:25,  1.47it/s]"
     ]
    },
    {
     "name": "stdout",
     "output_type": "stream",
     "text": [
      "Optimization terminated successfully.    (Exit mode 0)\n",
      "            Current function value: -106.78170045032532\n",
      "            Iterations: 215\n",
      "            Function evaluations: 574\n",
      "            Gradient evaluations: 215\n"
     ]
    },
    {
     "name": "stderr",
     "output_type": "stream",
     "text": [
      "\r",
      " 63%|██████▎   | 63/100 [00:32<00:23,  1.57it/s]"
     ]
    },
    {
     "name": "stdout",
     "output_type": "stream",
     "text": [
      "Optimization terminated successfully.    (Exit mode 0)\n",
      "            Current function value: -108.38161996825264\n",
      "            Iterations: 214\n",
      "            Function evaluations: 581\n",
      "            Gradient evaluations: 214\n"
     ]
    },
    {
     "name": "stderr",
     "output_type": "stream",
     "text": [
      "\r",
      " 64%|██████▍   | 64/100 [00:33<00:22,  1.62it/s]"
     ]
    },
    {
     "name": "stdout",
     "output_type": "stream",
     "text": [
      "Optimization terminated successfully.    (Exit mode 0)\n",
      "            Current function value: -109.70764133080027\n",
      "            Iterations: 234\n",
      "            Function evaluations: 600\n",
      "            Gradient evaluations: 234\n"
     ]
    },
    {
     "name": "stderr",
     "output_type": "stream",
     "text": [
      "\r",
      " 65%|██████▌   | 65/100 [00:33<00:22,  1.56it/s]"
     ]
    },
    {
     "name": "stdout",
     "output_type": "stream",
     "text": [
      "Optimization terminated successfully.    (Exit mode 0)\n",
      "            Current function value: -110.71624761857456\n",
      "            Iterations: 234\n",
      "            Function evaluations: 601\n",
      "            Gradient evaluations: 234\n"
     ]
    },
    {
     "name": "stderr",
     "output_type": "stream",
     "text": [
      "\r",
      " 66%|██████▌   | 66/100 [00:34<00:21,  1.59it/s]"
     ]
    },
    {
     "name": "stdout",
     "output_type": "stream",
     "text": [
      "Optimization terminated successfully.    (Exit mode 0)\n",
      "            Current function value: -111.37033925123583\n",
      "            Iterations: 234\n",
      "            Function evaluations: 601\n",
      "            Gradient evaluations: 234\n"
     ]
    },
    {
     "name": "stderr",
     "output_type": "stream",
     "text": [
      "\r",
      " 67%|██████▋   | 67/100 [00:35<00:20,  1.65it/s]"
     ]
    },
    {
     "name": "stdout",
     "output_type": "stream",
     "text": [
      "Optimization terminated successfully.    (Exit mode 0)\n",
      "            Current function value: -111.6405208131917\n",
      "            Iterations: 218\n",
      "            Function evaluations: 579\n",
      "            Gradient evaluations: 218\n"
     ]
    },
    {
     "name": "stderr",
     "output_type": "stream",
     "text": [
      "\r",
      " 68%|██████▊   | 68/100 [00:35<00:18,  1.71it/s]"
     ]
    },
    {
     "name": "stdout",
     "output_type": "stream",
     "text": [
      "Optimization terminated successfully.    (Exit mode 0)\n",
      "            Current function value: -111.50650354528217\n",
      "            Iterations: 213\n",
      "            Function evaluations: 577\n",
      "            Gradient evaluations: 213\n"
     ]
    },
    {
     "name": "stderr",
     "output_type": "stream",
     "text": [
      "\r",
      " 69%|██████▉   | 69/100 [00:36<00:17,  1.75it/s]"
     ]
    },
    {
     "name": "stdout",
     "output_type": "stream",
     "text": [
      "Optimization terminated successfully.    (Exit mode 0)\n",
      "            Current function value: -110.95864961252687\n",
      "            Iterations: 212\n",
      "            Function evaluations: 572\n",
      "            Gradient evaluations: 212\n"
     ]
    },
    {
     "name": "stderr",
     "output_type": "stream",
     "text": [
      "\r",
      " 70%|███████   | 70/100 [00:36<00:16,  1.79it/s]"
     ]
    },
    {
     "name": "stdout",
     "output_type": "stream",
     "text": [
      "Optimization terminated successfully.    (Exit mode 0)\n",
      "            Current function value: -109.99977233956028\n",
      "            Iterations: 207\n",
      "            Function evaluations: 569\n",
      "            Gradient evaluations: 207\n"
     ]
    },
    {
     "name": "stderr",
     "output_type": "stream",
     "text": [
      "\r",
      " 71%|███████   | 71/100 [00:37<00:16,  1.79it/s]"
     ]
    },
    {
     "name": "stdout",
     "output_type": "stream",
     "text": [
      "Optimization terminated successfully.    (Exit mode 0)\n",
      "            Current function value: -108.64733732768526\n",
      "            Iterations: 213\n",
      "            Function evaluations: 578\n",
      "            Gradient evaluations: 213\n"
     ]
    },
    {
     "name": "stderr",
     "output_type": "stream",
     "text": [
      "\r",
      " 72%|███████▏  | 72/100 [00:37<00:15,  1.79it/s]"
     ]
    },
    {
     "name": "stdout",
     "output_type": "stream",
     "text": [
      "Optimization terminated successfully.    (Exit mode 0)\n",
      "            Current function value: -106.936270620382\n",
      "            Iterations: 217\n",
      "            Function evaluations: 581\n",
      "            Gradient evaluations: 217\n"
     ]
    },
    {
     "name": "stderr",
     "output_type": "stream",
     "text": [
      "\r",
      " 73%|███████▎  | 73/100 [00:38<00:15,  1.75it/s]"
     ]
    },
    {
     "name": "stdout",
     "output_type": "stream",
     "text": [
      "Optimization terminated successfully.    (Exit mode 0)\n",
      "            Current function value: -104.92264383585302\n",
      "            Iterations: 220\n",
      "            Function evaluations: 586\n",
      "            Gradient evaluations: 220\n"
     ]
    },
    {
     "name": "stderr",
     "output_type": "stream",
     "text": [
      "\r",
      " 74%|███████▍  | 74/100 [00:39<00:14,  1.74it/s]"
     ]
    },
    {
     "name": "stdout",
     "output_type": "stream",
     "text": [
      "Optimization terminated successfully.    (Exit mode 0)\n",
      "            Current function value: -102.68809850082462\n",
      "            Iterations: 213\n",
      "            Function evaluations: 575\n",
      "            Gradient evaluations: 213\n"
     ]
    },
    {
     "name": "stderr",
     "output_type": "stream",
     "text": [
      "\r",
      " 75%|███████▌  | 75/100 [00:39<00:14,  1.76it/s]"
     ]
    },
    {
     "name": "stdout",
     "output_type": "stream",
     "text": [
      "Optimization terminated successfully.    (Exit mode 0)\n",
      "            Current function value: -100.3427524480961\n",
      "            Iterations: 213\n",
      "            Function evaluations: 576\n",
      "            Gradient evaluations: 213\n"
     ]
    },
    {
     "name": "stderr",
     "output_type": "stream",
     "text": [
      "\r",
      " 76%|███████▌  | 76/100 [00:40<00:14,  1.62it/s]"
     ]
    },
    {
     "name": "stdout",
     "output_type": "stream",
     "text": [
      "Optimization terminated successfully.    (Exit mode 0)\n",
      "            Current function value: -98.0196260708201\n",
      "            Iterations: 261\n",
      "            Function evaluations: 626\n",
      "            Gradient evaluations: 261\n"
     ]
    },
    {
     "name": "stderr",
     "output_type": "stream",
     "text": [
      "\r",
      " 77%|███████▋  | 77/100 [00:40<00:13,  1.66it/s]"
     ]
    },
    {
     "name": "stdout",
     "output_type": "stream",
     "text": [
      "Optimization terminated successfully.    (Exit mode 0)\n",
      "            Current function value: -95.85185932005322\n",
      "            Iterations: 221\n",
      "            Function evaluations: 578\n",
      "            Gradient evaluations: 221\n"
     ]
    },
    {
     "name": "stderr",
     "output_type": "stream",
     "text": [
      "\r",
      " 78%|███████▊  | 78/100 [00:41<00:13,  1.67it/s]"
     ]
    },
    {
     "name": "stdout",
     "output_type": "stream",
     "text": [
      "Optimization terminated successfully.    (Exit mode 0)\n",
      "            Current function value: -93.9385144184461\n",
      "            Iterations: 224\n",
      "            Function evaluations: 584\n",
      "            Gradient evaluations: 224\n"
     ]
    },
    {
     "name": "stderr",
     "output_type": "stream",
     "text": [
      "\r",
      " 79%|███████▉  | 79/100 [00:42<00:12,  1.65it/s]"
     ]
    },
    {
     "name": "stdout",
     "output_type": "stream",
     "text": [
      "Optimization terminated successfully.    (Exit mode 0)\n",
      "            Current function value: -92.32442219187459\n",
      "            Iterations: 218\n",
      "            Function evaluations: 577\n",
      "            Gradient evaluations: 218\n"
     ]
    },
    {
     "name": "stderr",
     "output_type": "stream",
     "text": [
      "\r",
      " 80%|████████  | 80/100 [00:42<00:11,  1.71it/s]"
     ]
    },
    {
     "name": "stdout",
     "output_type": "stream",
     "text": [
      "Optimization terminated successfully.    (Exit mode 0)\n",
      "            Current function value: -91.00669418493464\n",
      "            Iterations: 219\n",
      "            Function evaluations: 577\n",
      "            Gradient evaluations: 219\n"
     ]
    },
    {
     "name": "stderr",
     "output_type": "stream",
     "text": [
      "\r",
      " 81%|████████  | 81/100 [00:43<00:11,  1.68it/s]"
     ]
    },
    {
     "name": "stdout",
     "output_type": "stream",
     "text": [
      "Optimization terminated successfully.    (Exit mode 0)\n",
      "            Current function value: -89.95380420926847\n",
      "            Iterations: 253\n",
      "            Function evaluations: 623\n",
      "            Gradient evaluations: 253\n"
     ]
    },
    {
     "name": "stderr",
     "output_type": "stream",
     "text": [
      "\r",
      " 82%|████████▏ | 82/100 [00:43<00:10,  1.66it/s]"
     ]
    },
    {
     "name": "stdout",
     "output_type": "stream",
     "text": [
      "Optimization terminated successfully.    (Exit mode 0)\n",
      "            Current function value: -89.12222965808854\n",
      "            Iterations: 253\n",
      "            Function evaluations: 613\n",
      "            Gradient evaluations: 253\n"
     ]
    },
    {
     "name": "stderr",
     "output_type": "stream",
     "text": [
      "\r",
      " 83%|████████▎ | 83/100 [00:44<00:10,  1.65it/s]"
     ]
    },
    {
     "name": "stdout",
     "output_type": "stream",
     "text": [
      "Optimization terminated successfully.    (Exit mode 0)\n",
      "            Current function value: -88.46690267779347\n",
      "            Iterations: 248\n",
      "            Function evaluations: 606\n",
      "            Gradient evaluations: 248\n"
     ]
    },
    {
     "name": "stderr",
     "output_type": "stream",
     "text": [
      "\r",
      " 84%|████████▍ | 84/100 [00:45<00:09,  1.65it/s]"
     ]
    },
    {
     "name": "stdout",
     "output_type": "stream",
     "text": [
      "Optimization terminated successfully.    (Exit mode 0)\n",
      "            Current function value: -87.94700030946066\n",
      "            Iterations: 244\n",
      "            Function evaluations: 599\n",
      "            Gradient evaluations: 244\n"
     ]
    },
    {
     "name": "stderr",
     "output_type": "stream",
     "text": [
      "\r",
      " 85%|████████▌ | 85/100 [00:45<00:09,  1.61it/s]"
     ]
    },
    {
     "name": "stdout",
     "output_type": "stream",
     "text": [
      "Optimization terminated successfully.    (Exit mode 0)\n",
      "            Current function value: -87.52899316278202\n",
      "            Iterations: 270\n",
      "            Function evaluations: 642\n",
      "            Gradient evaluations: 270\n"
     ]
    },
    {
     "name": "stderr",
     "output_type": "stream",
     "text": [
      "\r",
      " 86%|████████▌ | 86/100 [00:46<00:07,  1.77it/s]"
     ]
    },
    {
     "name": "stdout",
     "output_type": "stream",
     "text": [
      "Optimization terminated successfully.    (Exit mode 0)\n",
      "            Current function value: -86.90338347368609\n",
      "            Iterations: 167\n",
      "            Function evaluations: 509\n",
      "            Gradient evaluations: 167\n"
     ]
    },
    {
     "name": "stderr",
     "output_type": "stream",
     "text": [
      "\r",
      " 87%|████████▋ | 87/100 [00:46<00:06,  1.92it/s]"
     ]
    },
    {
     "name": "stdout",
     "output_type": "stream",
     "text": [
      "Optimization terminated successfully.    (Exit mode 0)\n",
      "            Current function value: -87.73936241467732\n",
      "            Iterations: 157\n",
      "            Function evaluations: 497\n",
      "            Gradient evaluations: 157\n"
     ]
    },
    {
     "name": "stderr",
     "output_type": "stream",
     "text": [
      "\r",
      " 88%|████████▊ | 88/100 [00:47<00:05,  2.02it/s]"
     ]
    },
    {
     "name": "stdout",
     "output_type": "stream",
     "text": [
      "Optimization terminated successfully.    (Exit mode 0)\n",
      "            Current function value: -88.65935874707615\n",
      "            Iterations: 153\n",
      "            Function evaluations: 496\n",
      "            Gradient evaluations: 153\n"
     ]
    },
    {
     "name": "stderr",
     "output_type": "stream",
     "text": [
      "\r",
      " 89%|████████▉ | 89/100 [00:47<00:05,  2.11it/s]"
     ]
    },
    {
     "name": "stdout",
     "output_type": "stream",
     "text": [
      "Optimization terminated successfully.    (Exit mode 0)\n",
      "            Current function value: -89.64208245875092\n",
      "            Iterations: 151\n",
      "            Function evaluations: 495\n",
      "            Gradient evaluations: 151\n"
     ]
    },
    {
     "name": "stderr",
     "output_type": "stream",
     "text": [
      "\r",
      " 90%|█████████ | 90/100 [00:47<00:04,  2.22it/s]"
     ]
    },
    {
     "name": "stdout",
     "output_type": "stream",
     "text": [
      "Optimization terminated successfully.    (Exit mode 0)\n",
      "            Current function value: -90.69231403578138\n",
      "            Iterations: 145\n",
      "            Function evaluations: 485\n",
      "            Gradient evaluations: 145\n"
     ]
    },
    {
     "name": "stderr",
     "output_type": "stream",
     "text": [
      "\r",
      " 91%|█████████ | 91/100 [00:48<00:03,  2.31it/s]"
     ]
    },
    {
     "name": "stdout",
     "output_type": "stream",
     "text": [
      "Optimization terminated successfully.    (Exit mode 0)\n",
      "            Current function value: -91.828559833657\n",
      "            Iterations: 142\n",
      "            Function evaluations: 480\n",
      "            Gradient evaluations: 142\n"
     ]
    },
    {
     "name": "stderr",
     "output_type": "stream",
     "text": [
      "\r",
      " 92%|█████████▏| 92/100 [00:48<00:03,  2.41it/s]"
     ]
    },
    {
     "name": "stdout",
     "output_type": "stream",
     "text": [
      "Optimization terminated successfully.    (Exit mode 0)\n",
      "            Current function value: -93.07707699380563\n",
      "            Iterations: 137\n",
      "            Function evaluations: 474\n",
      "            Gradient evaluations: 137\n"
     ]
    },
    {
     "name": "stderr",
     "output_type": "stream",
     "text": [
      "\r",
      " 93%|█████████▎| 93/100 [00:48<00:02,  2.48it/s]"
     ]
    },
    {
     "name": "stdout",
     "output_type": "stream",
     "text": [
      "Optimization terminated successfully.    (Exit mode 0)\n",
      "            Current function value: -94.46623780385012\n",
      "            Iterations: 130\n",
      "            Function evaluations: 466\n",
      "            Gradient evaluations: 130\n"
     ]
    },
    {
     "name": "stderr",
     "output_type": "stream",
     "text": [
      "\r",
      " 94%|█████████▍| 94/100 [00:49<00:02,  2.57it/s]"
     ]
    },
    {
     "name": "stdout",
     "output_type": "stream",
     "text": [
      "Optimization terminated successfully.    (Exit mode 0)\n",
      "            Current function value: -96.01987968554005\n",
      "            Iterations: 123\n",
      "            Function evaluations: 456\n",
      "            Gradient evaluations: 123\n"
     ]
    },
    {
     "name": "stderr",
     "output_type": "stream",
     "text": [
      "\r",
      " 95%|█████████▌| 95/100 [00:49<00:01,  2.61it/s]"
     ]
    },
    {
     "name": "stdout",
     "output_type": "stream",
     "text": [
      "Optimization terminated successfully.    (Exit mode 0)\n",
      "            Current function value: -97.7499224483789\n",
      "            Iterations: 129\n",
      "            Function evaluations: 466\n",
      "            Gradient evaluations: 129\n"
     ]
    },
    {
     "name": "stderr",
     "output_type": "stream",
     "text": [
      "\r",
      " 96%|█████████▌| 96/100 [00:50<00:01,  2.66it/s]"
     ]
    },
    {
     "name": "stdout",
     "output_type": "stream",
     "text": [
      "Optimization terminated successfully.    (Exit mode 0)\n",
      "            Current function value: -99.64991960322554\n",
      "            Iterations: 127\n",
      "            Function evaluations: 459\n",
      "            Gradient evaluations: 127\n"
     ]
    },
    {
     "name": "stderr",
     "output_type": "stream",
     "text": [
      "\r",
      " 97%|█████████▋| 97/100 [00:50<00:01,  2.70it/s]"
     ]
    },
    {
     "name": "stdout",
     "output_type": "stream",
     "text": [
      "Optimization terminated successfully.    (Exit mode 0)\n",
      "            Current function value: -101.6919957299577\n",
      "            Iterations: 125\n",
      "            Function evaluations: 457\n",
      "            Gradient evaluations: 125\n"
     ]
    },
    {
     "name": "stderr",
     "output_type": "stream",
     "text": [
      "\r",
      " 98%|█████████▊| 98/100 [00:50<00:00,  2.78it/s]"
     ]
    },
    {
     "name": "stdout",
     "output_type": "stream",
     "text": [
      "Optimization terminated successfully.    (Exit mode 0)\n",
      "            Current function value: -103.82876617303705\n",
      "            Iterations: 119\n",
      "            Function evaluations: 450\n",
      "            Gradient evaluations: 119\n"
     ]
    },
    {
     "name": "stderr",
     "output_type": "stream",
     "text": [
      "\r",
      " 99%|█████████▉| 99/100 [00:51<00:00,  2.80it/s]"
     ]
    },
    {
     "name": "stdout",
     "output_type": "stream",
     "text": [
      "Optimization terminated successfully.    (Exit mode 0)\n",
      "            Current function value: -105.99952227741234\n",
      "            Iterations: 122\n",
      "            Function evaluations: 455\n",
      "            Gradient evaluations: 122\n"
     ]
    },
    {
     "name": "stderr",
     "output_type": "stream",
     "text": [
      "100%|██████████| 100/100 [00:51<00:00,  1.93it/s]"
     ]
    },
    {
     "name": "stdout",
     "output_type": "stream",
     "text": [
      "Optimization terminated successfully.    (Exit mode 0)\n",
      "            Current function value: -108.10159326411431\n",
      "            Iterations: 257\n",
      "            Function evaluations: 1214\n",
      "            Gradient evaluations: 257\n"
     ]
    },
    {
     "name": "stderr",
     "output_type": "stream",
     "text": [
      "\n"
     ]
    }
   ],
   "source": [
    "from tqdm import tqdm\n",
    "results = []\n",
    "for theta in tqdm(torsion_grid):\n",
    "    results.append(minimize(fxn_to_minimize, flat_xyz, method='SLSQP', jac=jacobian_of_fxn,\n",
    "               constraints=[form_eq_constraint(theta)],\n",
    "                            options={'ftol': 1e-9, 'disp': True, 'maxiter': 1000}))"
   ]
  },
  {
   "cell_type": "code",
   "execution_count": 17,
   "metadata": {},
   "outputs": [],
   "source": [
    "energies = np.array([r.fun for r in results])"
   ]
  },
  {
   "cell_type": "code",
   "execution_count": 18,
   "metadata": {},
   "outputs": [
    {
     "data": {
      "text/plain": [
       "Text(0, 0.5, 'potential energy (kJ/mol)')"
      ]
     },
     "execution_count": 18,
     "metadata": {},
     "output_type": "execute_result"
    },
    {
     "data": {
      "image/png": "[encoded data removed]",
      "text/plain": [
       "<Figure size 432x288 with 1 Axes>"
      ]
     },
     "metadata": {
      "needs_background": "light"
     },
     "output_type": "display_data"
    }
   ],
   "source": [
    "import matplotlib.pyplot as plt\n",
    "%matplotlib inline\n",
    "\n",
    "plt.plot(torsion_grid, energies)\n",
    "plt.scatter(torsion_grid, energies, s=3)\n",
    "plt.xlabel('$\\phi$ torsion angle')\n",
    "plt.xticks([-np.pi, 0, np.pi], ['$-\\pi$', '$0$', '$+\\pi$'])\n",
    "plt.ylabel('potential energy (kJ/mol)')"
   ]
  },
  {
   "cell_type": "code",
   "execution_count": null,
   "metadata": {},
   "outputs": [],
   "source": []
  }
 ],
 "metadata": {
  "kernelspec": {
   "display_name": "Python [conda env:ani36]",
   "language": "python",
   "name": "conda-env-ani36-py"
  },
  "language_info": {
   "codemirror_mode": {
    "name": "ipython",
    "version": 3
   },
   "file_extension": ".py",
   "mimetype": "text/x-python",
   "name": "python",
   "nbconvert_exporter": "python",
   "pygments_lexer": "ipython3",
   "version": "3.6.7"
  }
 },
 "nbformat": 4,
 "nbformat_minor": 2
}
