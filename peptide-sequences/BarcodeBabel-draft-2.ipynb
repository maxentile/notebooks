{
 "cells": [
  {
   "cell_type": "markdown",
   "metadata": {},
   "source": [
    "# BarcodeBabel draft 2\n",
    "\n",
    "Rules:\n",
    "1. User-defined enzyme cleavage sites\n",
    "    * Defaults: `GRA` on both ends\n",
    "    * Specify separately for beginning and end?\n",
    "2. User-defined frequencies of amino acids:\n",
    "    * Defaults: Frequencies will be 0 for some: K, R, H, C, M, P\n",
    "3. User-defined m/z range at user-defined pH\n",
    "    * Defaults: pH = 3, m/z range: 550-850\n",
    "4. User-defined maximum length of allowed repeats\n",
    "    * Default: 2?\n",
    "5. User-defined hydrophobicity range:\n",
    "    * Default: Must consult peptide atlas\n",
    "5. User-defined library size:\n",
    "    * Default: 2000\n",
    "    \n",
    "Properties 3 and 5 must be satisfied by the trypsinized barcode (e.g. instead of computing `property(\"GRAxxxGRA\")` we want to compute `property(\"AxxxGR\")`)"
   ]
  },
  {
   "cell_type": "code",
   "execution_count": 1,
   "metadata": {},
   "outputs": [],
   "source": [
    "import numpy as np\n",
    "\n",
    "# Construct sampling distributions over amino acids\n",
    "standard_amino_acids = sorted(list('AGILPVFWYDERHKSTCMNQ'))\n",
    "index_of_aa = dict(zip(standard_amino_acids, range(len(standard_amino_acids))))\n",
    "\n",
    "# uniform distribution\n",
    "uniform_distribution = np.ones(len(standard_amino_acids)) / len(standard_amino_acids)\n",
    "\n",
    "def sample_random_peptide(length=10, residue_frequencies=uniform_distribution):\n",
    "    \"\"\"Sample a random peptide of specified length, with specified AA probabilities\"\"\"\n",
    "    return ''.join(np.random.choice(standard_amino_acids, size=length, p=residue_frequencies))"
   ]
  },
  {
   "cell_type": "code",
   "execution_count": 2,
   "metadata": {},
   "outputs": [],
   "source": [
    "# proportions used in Seeger preprint about flycode, from NM's Barcode Babel design document\n",
    "flycode_dict = {\n",
    "    'A': 0.18,\n",
    "    'S': 0.06,\n",
    "    'T': 0.12,\n",
    "    'N': 0.01,\n",
    "    'Q': 0.01,\n",
    "    'D': 0.11,\n",
    "    'E': 0.11,\n",
    "    'V': 0.12,\n",
    "    'L': 0.02,\n",
    "    'F': 0.01,\n",
    "    'Y': 0.04,\n",
    "    'W': 0.01,\n",
    "    'G': 0.08,\n",
    "    'P': 0.12,\n",
    "}\n",
    "\n",
    "flycode_distribution = np.zeros(len(standard_amino_acids))\n",
    "for aa in flycode_dict:\n",
    "    flycode_distribution[index_of_aa[aa]] = flycode_dict[aa]\n",
    "assert(np.sum(flycode_distribution) == 1)"
   ]
  },
  {
   "cell_type": "code",
   "execution_count": 3,
   "metadata": {},
   "outputs": [
    {
     "name": "stdout",
     "output_type": "stream",
     "text": [
      "initial sampling distribution: \n",
      "\tA: 20.5%\n",
      "\tC: 0.0%\n",
      "\tD: 12.5%\n",
      "\tE: 12.5%\n",
      "\tF: 1.14%\n",
      "\tG: 9.09%\n",
      "\tH: 0.0%\n",
      "\tI: 0.0%\n",
      "\tK: 0.0%\n",
      "\tL: 2.27%\n",
      "\tM: 0.0%\n",
      "\tN: 1.14%\n",
      "\tP: 0.0%\n",
      "\tQ: 1.14%\n",
      "\tR: 0.0%\n",
      "\tS: 6.82%\n",
      "\tT: 13.6%\n",
      "\tV: 13.6%\n",
      "\tW: 1.14%\n",
      "\tY: 4.55%\n"
     ]
    }
   ],
   "source": [
    "residues_to_avoid = ['K', 'R', 'H', 'M', 'C', 'P']\n",
    "def avoid_certain_residues(initial_distribution, residues_to_avoid):\n",
    "    \"\"\"Take an initial distribution, and set the probability for each element of residues_to_avoid to 0, then renormalize\"\"\"\n",
    "    censored_distribution = np.array(initial_distribution)\n",
    "    for aa in residues_to_avoid:\n",
    "        censored_distribution[index_of_aa[aa]] = 0\n",
    "    assert(np.sum(censored_distribution) > 0)\n",
    "    return censored_distribution / np.sum(censored_distribution)\n",
    "residue_frequencies = avoid_certain_residues(flycode_distribution, residues_to_avoid)\n",
    "print('initial sampling distribution: ')\n",
    "for i in range(len(standard_amino_acids)):\n",
    "    print('\\t{}: {:.3}%'.format(standard_amino_acids[i], residue_frequencies[i]*100))"
   ]
  },
  {
   "cell_type": "code",
   "execution_count": 4,
   "metadata": {},
   "outputs": [],
   "source": [
    "from Bio.SeqUtils.ProtParam import ProteinAnalysis\n",
    "from Bio.SeqUtils.IsoelectricPoint import IsoelectricPoint, positive_pKs, negative_pKs"
   ]
  },
  {
   "cell_type": "code",
   "execution_count": 5,
   "metadata": {},
   "outputs": [],
   "source": [
    "def compute_mass(peptide):\n",
    "    \"\"\"Return the molecular weight (in Da) of the peptide\"\"\"\n",
    "    analysis = ProteinAnalysis(peptide)\n",
    "    return analysis.molecular_weight()\n",
    "\n",
    "def compute_charge_state(peptide, pH=3):\n",
    "    \"\"\"Compute the charge of a peptide at a specified pH\"\"\"\n",
    "    iso = IsoelectricPoint(peptide, ProteinAnalysis(peptide).count_amino_acids())\n",
    "    return iso._chargeR(pH, pos_pKs=positive_pKs, neg_pKs=negative_pKs)\n",
    "\n",
    "def compute_mz(peptide, pH=3):\n",
    "    \"\"\"Return the mass over charge ratio for a peptide at a specified pH\"\"\"\n",
    "    return compute_mass(peptide) / compute_charge_state(peptide, pH=pH)\n",
    "\n",
    "def check_longest_repetition(peptide):\n",
    "    \"\"\"Return the length of the longest string of repeated characters in the peptide\"\"\"\n",
    "    prev_aa = peptide[0]\n",
    "    longest_repetition = 1\n",
    "    current_repetition = 1\n",
    "    for i in range(1, len(peptide)):\n",
    "        if peptide[i] == prev_aa:\n",
    "            current_repetition += 1\n",
    "        else:\n",
    "            prev_aa = peptide[i]\n",
    "            longest_repetition = max(current_repetition, longest_repetition)\n",
    "            current_repetition = 1\n",
    "    return longest_repetition\n",
    "\n",
    "kyte_doolittle_scale = { 'A': 1.8,'R':-4.5,'N':-3.5,'D':-3.5,'C': 2.5,\n",
    "       'Q':-3.5,'E':-3.5,'G':-0.4,'H':-3.2,'I': 4.5,\n",
    "       'L': 3.8,'K':-3.9,'M': 1.9,'F': 2.8,'P':-1.6,\n",
    "       'S':-0.8,'T':-0.7,'W':-0.9,'Y':-1.3,'V': 4.2 }\n",
    "\n",
    "def compute_hydrophobicity_profile(peptide, window=5):\n",
    "    \"\"\"Return the hydrophobicity profile along the peptide using the Kyte-Doolittle scale\"\"\"\n",
    "    analysis = ProteinAnalysis(peptide)\n",
    "    window = min(window, len(analysis.sequence))\n",
    "    hydrophobicity_profile = analysis.protein_scale(kyte_doolittle_scale, window=window)\n",
    "    return hydrophobicity_profile\n",
    "    \n",
    "def acceptable_hydrophobicity_profile(peptide, min_hydrophobicity=-2, max_hydrophobicity=2):\n",
    "    \"\"\"Return True if the minimum along the hydrophobicity profile is >= min_hydrophobicity,\n",
    "    and the maximum along the hydrophobicity_profile is <= max_hydrophobicity\"\"\"\n",
    "    hydrophobicity_profile = compute_hydrophobicity_profile(peptide)\n",
    "    return (np.min(hydrophobicity_profile) >= min_hydrophobicity) and (np.max(hydrophobicity_profile) <= max_hydrophobicity)\n",
    "\n",
    "def no_long_repetitions(peptide, max_n_repeat=2):\n",
    "    \"\"\"Return True only if the sequence contains no strings of repeated characters\n",
    "    longer than threshold.\"\"\"\n",
    "    return check_longest_repetition(peptide) <= max_n_repeat\n",
    "\n",
    "def mz_in_range(peptide, min_mz=550, max_mz=850, pH=3):\n",
    "    \"\"\"Return True only if m/z ratio is within desired interval\"\"\"\n",
    "    mz = compute_mz(peptide, pH=pH)\n",
    "    return (mz >= min_mz) and (mz <= max_mz)\n",
    "\n",
    "def avoids_certain_residues(peptide, residues_to_avoid):\n",
    "    \"\"\"Return True only if the peptide contains none of the residues_to_avoid\"\"\"\n",
    "    return len(set(peptide).intersection(set(residues_to_avoid))) == 0"
   ]
  },
  {
   "cell_type": "code",
   "execution_count": 6,
   "metadata": {},
   "outputs": [
    {
     "data": {
      "text/plain": [
       "['', 'LEDTGDSDE', '']"
      ]
     },
     "execution_count": 6,
     "metadata": {},
     "output_type": "execute_result"
    }
   ],
   "source": [
    "peptide = \"GRALEDTGDSDEGRA\"\n",
    "peptide.split(\"GRA\")"
   ]
  },
  {
   "cell_type": "code",
   "execution_count": 7,
   "metadata": {},
   "outputs": [],
   "source": [
    "def append_enzyme_cleavage_sites(peptide, initial='GRA', end='GRA'):\n",
    "    \"\"\"Add fixed sequences to the beginning and end of the barcode\"\"\"\n",
    "    return ''.join([initial, peptide, end])\n",
    "\n",
    "def trypsinize(peptide):\n",
    "    \"\"\"GRAxxxGRA --> AxxxGR\"\"\"\n",
    "    split = peptide.split(\"GRA\")\n",
    "    assert(len(split) == 3)\n",
    "    return ''.join(['A', split[1], 'RA'])\n",
    "\n",
    "def sample_random_length(min_length=3, max_length=25):\n",
    "    \"\"\"Pick a random integer given inclusive bounds\"\"\"\n",
    "    return np.random.randint(min_length, max_length+1)\n",
    "\n",
    "def sample_from_trial_distribution():\n",
    "    \"\"\"Sample a random length, then sample a random peptide of that length\"\"\"\n",
    "    return append_enzyme_cleavage_sites(sample_random_peptide(sample_random_length(), residue_frequencies))\n",
    "\n",
    "\n",
    "max_n_repeat = 1\n",
    "min_mz = 550\n",
    "max_mz = 850\n",
    "pH = 3.0\n",
    "min_hydrophobicity = -3\n",
    "max_hydrophobicity = 3\n",
    "\n",
    "constraints = [\n",
    "    lambda peptide : no_long_repetitions(peptide, max_n_repeat=max_n_repeat),\n",
    "    lambda peptide : mz_in_range(trypsinize(peptide), min_mz=min_mz, max_mz=max_mz, pH=pH),\n",
    "    lambda peptide : acceptable_hydrophobicity_profile(trypsinize(peptide), min_hydrophobicity=min_hydrophobicity, max_hydrophobicity=max_hydrophobicity)\n",
    "]\n",
    "\n",
    "def satisfies_all_constraints(peptide):\n",
    "    \"\"\"Return True only if each function in the constraints list returns True\"\"\"\n",
    "    for constraint in constraints:\n",
    "        if not constraint(peptide):\n",
    "            return False\n",
    "    return True\n",
    "\n",
    "from tqdm import tqdm\n",
    "def generate_library(library_size, sample_from_trial_distribution, check_constraints, max_n_trials=int(1e6)):\n",
    "    \"\"\"Build a library by sampling peptides from the trial distribution, and adding them to the library\n",
    "    if they satisfy all the constraints, and if they're not already in the library.\"\"\"\n",
    "    library = []\n",
    "    trange = tqdm(range(max_n_trials))\n",
    "    for i in trange:\n",
    "        trial = sample_from_trial_distribution()\n",
    "        if trial not in library:\n",
    "            if check_constraints(trial):\n",
    "                library.append(trial)\n",
    "        trange.set_postfix({'current library size': len(library)})\n",
    "        if len(library) >= library_size:\n",
    "            print('target library size achieved! terminating early')\n",
    "            break\n",
    "    if len(library) < library_size:\n",
    "        print('target library size not achieved, returning the library assembled so far')\n",
    "    return library"
   ]
  },
  {
   "cell_type": "code",
   "execution_count": 8,
   "metadata": {},
   "outputs": [
    {
     "data": {
      "text/plain": [
       "0.0574"
      ]
     },
     "execution_count": 8,
     "metadata": {},
     "output_type": "execute_result"
    }
   ],
   "source": [
    "# what fraction of trial peptides satisfy all our constraints?\n",
    "np.mean([satisfies_all_constraints(sample_from_trial_distribution()) for _ in range(10000)])"
   ]
  },
  {
   "cell_type": "code",
   "execution_count": 9,
   "metadata": {},
   "outputs": [],
   "source": [
    "np.random.seed(0)\n",
    "trial_peptides = [sample_from_trial_distribution() for _ in range(10000)]\n",
    "lengths = list(map(len, trial_peptides))"
   ]
  },
  {
   "cell_type": "code",
   "execution_count": 10,
   "metadata": {},
   "outputs": [
    {
     "data": {
      "text/plain": [
       "'GRAQVVVSEDADGVGEVEGRA'"
      ]
     },
     "execution_count": 10,
     "metadata": {},
     "output_type": "execute_result"
    }
   ],
   "source": [
    "trial_peptides[0]"
   ]
  },
  {
   "cell_type": "code",
   "execution_count": 11,
   "metadata": {},
   "outputs": [],
   "source": [
    "mz_for_random_peptides = np.array(list(map(lambda p: compute_mz(trypsinize(p)), trial_peptides)))"
   ]
  },
  {
   "cell_type": "code",
   "execution_count": 12,
   "metadata": {},
   "outputs": [
    {
     "data": {
      "text/plain": [
       "<matplotlib.collections.PolyCollection at 0x115e97e80>"
      ]
     },
     "execution_count": 12,
     "metadata": {},
     "output_type": "execute_result"
    },
    {
     "data": {
      "image/png": "[encoded data removed]",
      "text/plain": [
       "<Figure size 432x288 with 1 Axes>"
      ]
     },
     "metadata": {},
     "output_type": "display_data"
    }
   ],
   "source": [
    "import matplotlib.pyplot as plt\n",
    "%matplotlib inline\n",
    "hist_heights = plt.hist(mz_for_random_peptides, bins=50, alpha=0.5)[0];\n",
    "plt.ylabel('probability density')\n",
    "plt.yticks([])\n",
    "plt.xlabel('m/z')\n",
    "plt.title('m/z for random trial peptides')\n",
    "\n",
    "#plt.vlines([min_mz, max_mz], 0, max(hist_heights)*1.1)\n",
    "plt.fill_between([min_mz, max_mz], [0]*2, [max(hist_heights)*1.1]*2, color='green', alpha=0.3)\n",
    "#plt.fill_between([min(mz_for_random_peptides), min_mz], [0]*2, [max(hist_heights)]*2, color='grey', alpha=0.3)\n",
    "#plt.fill_between([max_mz, max(mz_for_random_peptides)], [0]*2, [max(hist_heights)]*2, color='grey', alpha=0.3)"
   ]
  },
  {
   "cell_type": "code",
   "execution_count": 13,
   "metadata": {},
   "outputs": [
    {
     "data": {
      "text/plain": [
       "<matplotlib.collections.PolyCollection at 0x115fa9d68>"
      ]
     },
     "execution_count": 13,
     "metadata": {},
     "output_type": "execute_result"
    },
    {
     "data": {
      "image/png": "[encoded data removed]",
      "text/plain": [
       "<Figure size 432x288 with 1 Axes>"
      ]
     },
     "metadata": {},
     "output_type": "display_data"
    }
   ],
   "source": [
    "plt.scatter(lengths, mz_for_random_peptides, s=1)\n",
    "plt.title('m/z vs. length for random trial peptides')\n",
    "plt.xlabel('length')\n",
    "plt.ylabel('m/z')\n",
    "#plt.hlines([min_mz, max_mz], min(lengths), max(lengths))\n",
    "plt.fill_between([min(lengths), max(lengths)], [max_mz]*2, [min_mz]*2, color='green', alpha=0.3)"
   ]
  },
  {
   "cell_type": "code",
   "execution_count": 14,
   "metadata": {},
   "outputs": [
    {
     "name": "stderr",
     "output_type": "stream",
     "text": [
      "  4%|▎         | 36636/1000000 [01:09<30:34, 525.09it/s, current library size=2e+03]   "
     ]
    },
    {
     "name": "stdout",
     "output_type": "stream",
     "text": [
      "target library size achieved! terminating early\n"
     ]
    }
   ],
   "source": [
    "# generate library of random peptides that satisfy all the constraints\n",
    "np.random.seed(0)\n",
    "library = generate_library(library_size=2000,\n",
    "                          sample_from_trial_distribution=sample_from_trial_distribution,\n",
    "                          check_constraints=satisfies_all_constraints)"
   ]
  },
  {
   "cell_type": "code",
   "execution_count": 15,
   "metadata": {},
   "outputs": [
    {
     "data": {
      "text/plain": [
       "([<matplotlib.axis.XTick at 0x116059048>,\n",
       "  <matplotlib.axis.XTick at 0x1160d3d68>,\n",
       "  <matplotlib.axis.XTick at 0x1160d3c50>,\n",
       "  <matplotlib.axis.XTick at 0x1161a6278>,\n",
       "  <matplotlib.axis.XTick at 0x1161a6748>],\n",
       " <a list of 5 Text xticklabel objects>)"
      ]
     },
     "execution_count": 15,
     "metadata": {},
     "output_type": "execute_result"
    },
    {
     "data": {
      "image/png": "[encoded data removed]",
      "text/plain": [
       "<Figure size 432x288 with 1 Axes>"
      ]
     },
     "metadata": {},
     "output_type": "display_data"
    }
   ],
   "source": [
    "lengths = list(map(len, library))\n",
    "plt.bar(np.arange(max(lengths)+1), np.bincount(lengths))\n",
    "plt.xlabel('length')\n",
    "plt.ylabel('# occurrences in sampled barcode library')\n",
    "plt.xticks(np.arange(max(lengths) + 2)[::5])"
   ]
  },
  {
   "cell_type": "code",
   "execution_count": 16,
   "metadata": {},
   "outputs": [
    {
     "data": {
      "text/plain": [
       "<matplotlib.collections.PolyCollection at 0x1161a6e48>"
      ]
     },
     "execution_count": 16,
     "metadata": {},
     "output_type": "execute_result"
    },
    {
     "data": {
      "image/png": "[encoded data removed]",
      "text/plain": [
       "<Figure size 432x288 with 1 Axes>"
      ]
     },
     "metadata": {},
     "output_type": "display_data"
    }
   ],
   "source": [
    "mz_for_library_peptides = np.array(list(map(lambda p: compute_mz(trypsinize(p)), library)))\n",
    "hist_heights = plt.hist(mz_for_library_peptides, bins=100, alpha=0.5)[0];\n",
    "plt.xlabel('m/z')\n",
    "plt.ylabel('# occurrences in sampled barcode library')\n",
    "plt.fill_between([min_mz, max_mz], [0]*2, [max(hist_heights)*1.1]*2, color='green', alpha=0.3)"
   ]
  },
  {
   "cell_type": "code",
   "execution_count": 17,
   "metadata": {},
   "outputs": [
    {
     "data": {
      "image/png": "[encoded data removed]",
      "text/plain": [
       "<Figure size 432x288 with 1 Axes>"
      ]
     },
     "metadata": {},
     "output_type": "display_data"
    }
   ],
   "source": [
    "hydrophobicity_profiles = list(map(compute_hydrophobicity_profile, library))\n",
    "min_hydrophobicities = list(map(np.min, hydrophobicity_profiles))\n",
    "max_hydrophobicities = list(map(np.max, hydrophobicity_profiles))\n",
    "\n",
    "ax = plt.subplot(111)\n",
    "plt.hist(min_hydrophobicities, bins=50, alpha=0.5, label='min(profile)');\n",
    "plt.hist(max_hydrophobicities, bins=50, alpha=0.5, label='max(profile)');\n",
    "plt.xlabel('hydrophobicity')\n",
    "plt.ylabel('# occurrences in sampled barcode library')\n",
    "plt.legend(loc='best')\n",
    "plt.title('sampled barcode library')\n",
    "\n",
    "ax.spines['top'].set_visible(False)\n",
    "ax.spines['right'].set_visible(False)\n",
    "\n",
    "plt.savefig('predicted-hydrophobicity-for-sampled-barcode-library-2.png', dpi=300)"
   ]
  },
  {
   "cell_type": "code",
   "execution_count": 18,
   "metadata": {},
   "outputs": [],
   "source": [
    "# based on E. coli codon usage frequency table here:\n",
    "# https://www.genscript.com/tools/codon-frequency-table\n",
    "preferred_codons = {\n",
    "    'F': 'TTT',\n",
    "    'L': 'CTG',\n",
    "    'Y': 'TAT',\n",
    "    'H': 'CAT',\n",
    "    'Q': 'CAG',\n",
    "    'I': 'ATT',\n",
    "    'M': 'ATG',\n",
    "    'N': 'AAC',\n",
    "    'K': 'AAA',\n",
    "    'V': 'GTG',\n",
    "    'D': 'GAT',\n",
    "    'E': 'GAA',\n",
    "    'S': 'AGC',\n",
    "    'C': 'TGC',\n",
    "    'W': 'TGG',\n",
    "    'P': 'CCG',\n",
    "    'R': 'CGT',\n",
    "    'T': 'ACC',\n",
    "    'A': 'GCG',\n",
    "    'G': 'GGC',\n",
    "}"
   ]
  },
  {
   "cell_type": "code",
   "execution_count": 19,
   "metadata": {},
   "outputs": [],
   "source": [
    "def reverse_translate(peptide):\n",
    "    return ''.join([preferred_codons[aa] for aa in peptide])"
   ]
  },
  {
   "cell_type": "code",
   "execution_count": 20,
   "metadata": {},
   "outputs": [],
   "source": [
    "with open('barcode-library-2.csv', 'w') as f:\n",
    "    f.writelines(['peptide_sequence,nucleotide_sequence\\n'])\n",
    "    f.writelines(['{},{}\\n'.format(peptide, reverse_translate(peptide)) for peptide in sorted(library)])"
   ]
  },
  {
   "cell_type": "markdown",
   "metadata": {},
   "source": [
    "Calibrate hydrophobicity score"
   ]
  },
  {
   "cell_type": "code",
   "execution_count": 21,
   "metadata": {},
   "outputs": [],
   "source": [
    "import pandas as pd"
   ]
  },
  {
   "cell_type": "code",
   "execution_count": 22,
   "metadata": {},
   "outputs": [],
   "source": [
    "import pandas as pd\n",
    "path_to_spreadsheet = 'proteome_tools_detected_fragments.xlsx'\n",
    "positive_pif_subset = list(pd.read_excel(path_to_spreadsheet, sheetname=0, header=None)[0])[1:]"
   ]
  },
  {
   "cell_type": "code",
   "execution_count": 23,
   "metadata": {},
   "outputs": [
    {
     "data": {
      "text/plain": [
       "16601"
      ]
     },
     "execution_count": 23,
     "metadata": {},
     "output_type": "execute_result"
    }
   ],
   "source": [
    "len(positive_pif_subset)"
   ]
  },
  {
   "cell_type": "code",
   "execution_count": 24,
   "metadata": {},
   "outputs": [],
   "source": [
    "positive_pif_hydrophobicity_profiles = list(map(compute_hydrophobicity_profile, positive_pif_subset))"
   ]
  },
  {
   "cell_type": "code",
   "execution_count": 25,
   "metadata": {},
   "outputs": [],
   "source": [
    "positive_pif_min_hydrophobicity = list(map(min, positive_pif_hydrophobicity_profiles))\n",
    "positive_pif_max_hydrophobicity = list(map(max, positive_pif_hydrophobicity_profiles))"
   ]
  },
  {
   "cell_type": "code",
   "execution_count": 26,
   "metadata": {},
   "outputs": [
    {
     "data": {
      "image/png": "[encoded data removed]",
      "text/plain": [
       "<Figure size 432x288 with 1 Axes>"
      ]
     },
     "metadata": {},
     "output_type": "display_data"
    },
    {
     "name": "stderr",
     "output_type": "stream",
     "text": [
      "\r",
      "  4%|▎         | 36636/1000000 [01:20<35:04, 457.85it/s, current library size=2e+03]"
     ]
    }
   ],
   "source": [
    "ax = plt.subplot(111)\n",
    "plt.hist(positive_pif_min_hydrophobicity, bins=50, alpha=0.5, label='min(profile)');\n",
    "plt.hist(positive_pif_max_hydrophobicity, bins=50, alpha=0.5, label='max(profile)');\n",
    "plt.xlabel('hydrophobicity')\n",
    "plt.ylabel('# occurrences in positive PIF subset')\n",
    "plt.legend(loc='best')\n",
    "\n",
    "plt.title('positive PIF subset')\n",
    "\n",
    "ax.spines['top'].set_visible(False)\n",
    "ax.spines['right'].set_visible(False)\n",
    "\n",
    "plt.savefig('predicted-hydrophobicity-for-positive-pif-subset.png', dpi=300)"
   ]
  },
  {
   "cell_type": "code",
   "execution_count": null,
   "metadata": {},
   "outputs": [],
   "source": []
  }
 ],
 "metadata": {
  "kernelspec": {
   "display_name": "Python 3",
   "language": "python",
   "name": "python3"
  },
  "language_info": {
   "codemirror_mode": {
    "name": "ipython",
    "version": 3
   },
   "file_extension": ".py",
   "mimetype": "text/x-python",
   "name": "python",
   "nbconvert_exporter": "python",
   "pygments_lexer": "ipython3",
   "version": "3.6.5"
  }
 },
 "nbformat": 4,
 "nbformat_minor": 2
}
